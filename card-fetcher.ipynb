{
 "cells": [
  {
   "cell_type": "code",
   "execution_count": 14,
   "metadata": {},
   "outputs": [],
   "source": [
    "import requests\n",
    "from bs4 import BeautifulSoup\n",
    "import json\n",
    "import os\n",
    "import re\n",
    "from tqdm import tqdm"
   ]
  },
  {
   "cell_type": "code",
   "execution_count": 3,
   "metadata": {},
   "outputs": [],
   "source": [
    "base_url = 'https://en.onepiece-cardgame.com/cardlist/?series=56910'\n",
    "image_base_url = 'https://en.onepiece-cardgame.com'"
   ]
  },
  {
   "cell_type": "code",
   "execution_count": 4,
   "metadata": {},
   "outputs": [],
   "source": [
    "# Function to save the image\n",
    "def save_image(series, card_id, image_url):\n",
    "    image_response = requests.get(image_url)\n",
    "    image_response.raise_for_status()\n",
    "    image_path = f'cards/series-{series}/{card_id}.jpg'\n",
    "\n",
    "    with open(image_path, 'wb') as image_file:\n",
    "        image_file.write(image_response.content)\n",
    "\n",
    "    print(f'Successfully saved image: {image_path}')\n"
   ]
  },
  {
   "cell_type": "code",
   "execution_count": 10,
   "metadata": {},
   "outputs": [],
   "source": [
    "def load_html_from_file(file_path):\n",
    "    with open(file_path, 'r', encoding='utf-8') as file:\n",
    "        return file.read()"
   ]
  },
  {
   "cell_type": "code",
   "execution_count": 11,
   "metadata": {},
   "outputs": [],
   "source": [
    "def extract_prefix(card_id):\n",
    "    match = re.match(r'^[^-]+', card_id)\n",
    "    return match.group(0) if match else ''"
   ]
  },
  {
   "cell_type": "code",
   "execution_count": 17,
   "metadata": {},
   "outputs": [],
   "source": [
    "# Function to fetch and parse card details from a single page\n",
    "def parse_card_details(html_file_path):\n",
    "    html_content = load_html_from_file(html_file_path)\n",
    "    soup = BeautifulSoup(html_content, 'html.parser')\n",
    "    card_blocks = soup.find_all('dl', class_='modalCol')\n",
    "\n",
    "    for i, card_block in tqdm(enumerate(card_blocks)):\n",
    "        print(f'{i} / {len(card_blocks)}')\n",
    "        card_id = card_block.get('id')\n",
    "        card_name = card_block.find('div', class_='cardName').text.strip()\n",
    "        cost = card_block.find('div', class_='cost').text.strip().replace('Cost', '').strip()\n",
    "        power = card_block.find('div', class_='power').text.strip().replace('Power', '').strip()\n",
    "        attribute = card_block.find('div', class_='attribute').find('i').text.strip()\n",
    "        image_relative_url = card_block.find('img', {'class': 'lazy'}).get('data-src')\n",
    "        image_url = f\"{image_base_url}{image_relative_url.replace('..', '')}\"\n",
    "        \n",
    "        card_data = {\n",
    "            'id': card_id,\n",
    "            'name': card_name,\n",
    "            'cost': cost,\n",
    "            'power': power,\n",
    "            'attribute': attribute,\n",
    "            'image_url': image_url\n",
    "        }\n",
    "        \n",
    "        prefix = extract_prefix(card_id)\n",
    "        directory = f'cards/{prefix}'\n",
    "        os.makedirs(directory, exist_ok=True)\n",
    "    \n",
    "        with open(f'{directory}/{card_id}.json', 'w') as json_file:\n",
    "            json.dump(card_data, json_file, indent=4)\n",
    "\n",
    "        image_response = requests.get(image_url)\n",
    "        image_response.raise_for_status()\n",
    "        with open(f'{directory}/{card_id}.jpg', 'wb') as image_file:\n",
    "            image_file.write(image_response.content)"
   ]
  },
  {
   "cell_type": "code",
   "execution_count": 22,
   "metadata": {},
   "outputs": [
    {
     "name": "stderr",
     "output_type": "stream",
     "text": [
      "0it [00:00, ?it/s]"
     ]
    },
    {
     "name": "stdout",
     "output_type": "stream",
     "text": [
      "0 / 19\n"
     ]
    },
    {
     "name": "stderr",
     "output_type": "stream",
     "text": [
      "1it [00:02,  2.14s/it]"
     ]
    },
    {
     "name": "stdout",
     "output_type": "stream",
     "text": [
      "1 / 19\n"
     ]
    },
    {
     "name": "stderr",
     "output_type": "stream",
     "text": [
      "2it [00:04,  2.09s/it]"
     ]
    },
    {
     "name": "stdout",
     "output_type": "stream",
     "text": [
      "2 / 19\n"
     ]
    },
    {
     "name": "stderr",
     "output_type": "stream",
     "text": [
      "3it [00:06,  2.09s/it]"
     ]
    },
    {
     "name": "stdout",
     "output_type": "stream",
     "text": [
      "3 / 19\n"
     ]
    },
    {
     "name": "stderr",
     "output_type": "stream",
     "text": [
      "4it [00:08,  2.10s/it]"
     ]
    },
    {
     "name": "stdout",
     "output_type": "stream",
     "text": [
      "4 / 19\n"
     ]
    },
    {
     "name": "stderr",
     "output_type": "stream",
     "text": [
      "5it [00:10,  2.10s/it]"
     ]
    },
    {
     "name": "stdout",
     "output_type": "stream",
     "text": [
      "5 / 19\n"
     ]
    },
    {
     "name": "stderr",
     "output_type": "stream",
     "text": [
      "6it [00:12,  2.11s/it]"
     ]
    },
    {
     "name": "stdout",
     "output_type": "stream",
     "text": [
      "6 / 19\n"
     ]
    },
    {
     "name": "stderr",
     "output_type": "stream",
     "text": [
      "7it [00:14,  2.12s/it]"
     ]
    },
    {
     "name": "stdout",
     "output_type": "stream",
     "text": [
      "7 / 19\n"
     ]
    },
    {
     "name": "stderr",
     "output_type": "stream",
     "text": [
      "8it [00:16,  2.12s/it]"
     ]
    },
    {
     "name": "stdout",
     "output_type": "stream",
     "text": [
      "8 / 19\n"
     ]
    },
    {
     "name": "stderr",
     "output_type": "stream",
     "text": [
      "9it [00:19,  2.12s/it]"
     ]
    },
    {
     "name": "stdout",
     "output_type": "stream",
     "text": [
      "9 / 19\n"
     ]
    },
    {
     "name": "stderr",
     "output_type": "stream",
     "text": [
      "10it [00:21,  2.11s/it]"
     ]
    },
    {
     "name": "stdout",
     "output_type": "stream",
     "text": [
      "10 / 19\n"
     ]
    },
    {
     "name": "stderr",
     "output_type": "stream",
     "text": [
      "11it [00:23,  2.10s/it]"
     ]
    },
    {
     "name": "stdout",
     "output_type": "stream",
     "text": [
      "11 / 19\n"
     ]
    },
    {
     "name": "stderr",
     "output_type": "stream",
     "text": [
      "12it [00:25,  2.13s/it]"
     ]
    },
    {
     "name": "stdout",
     "output_type": "stream",
     "text": [
      "12 / 19\n"
     ]
    },
    {
     "name": "stderr",
     "output_type": "stream",
     "text": [
      "13it [00:27,  2.13s/it]"
     ]
    },
    {
     "name": "stdout",
     "output_type": "stream",
     "text": [
      "13 / 19\n"
     ]
    },
    {
     "name": "stderr",
     "output_type": "stream",
     "text": [
      "14it [00:29,  2.14s/it]"
     ]
    },
    {
     "name": "stdout",
     "output_type": "stream",
     "text": [
      "14 / 19\n"
     ]
    },
    {
     "name": "stderr",
     "output_type": "stream",
     "text": [
      "15it [00:31,  2.13s/it]"
     ]
    },
    {
     "name": "stdout",
     "output_type": "stream",
     "text": [
      "15 / 19\n"
     ]
    },
    {
     "name": "stderr",
     "output_type": "stream",
     "text": [
      "16it [00:33,  2.13s/it]"
     ]
    },
    {
     "name": "stdout",
     "output_type": "stream",
     "text": [
      "16 / 19\n"
     ]
    },
    {
     "name": "stderr",
     "output_type": "stream",
     "text": [
      "17it [00:36,  2.12s/it]"
     ]
    },
    {
     "name": "stdout",
     "output_type": "stream",
     "text": [
      "17 / 19\n"
     ]
    },
    {
     "name": "stderr",
     "output_type": "stream",
     "text": [
      "18it [00:38,  2.12s/it]"
     ]
    },
    {
     "name": "stdout",
     "output_type": "stream",
     "text": [
      "18 / 19\n"
     ]
    },
    {
     "name": "stderr",
     "output_type": "stream",
     "text": [
      "19it [00:40,  2.12s/it]\n"
     ]
    }
   ],
   "source": [
    "for html_file in [\"htmls/ST10.html\"]:    \n",
    "    parse_card_details(html_file)"
   ]
  }
 ],
 "metadata": {
  "kernelspec": {
   "display_name": "tcg-scanner--verKe1I",
   "language": "python",
   "name": "python3"
  },
  "language_info": {
   "codemirror_mode": {
    "name": "ipython",
    "version": 3
   },
   "file_extension": ".py",
   "mimetype": "text/x-python",
   "name": "python",
   "nbconvert_exporter": "python",
   "pygments_lexer": "ipython3",
   "version": "3.12.4"
  }
 },
 "nbformat": 4,
 "nbformat_minor": 2
}
